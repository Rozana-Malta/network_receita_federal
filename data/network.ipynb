{
 "cells": [
  {
   "cell_type": "code",
   "execution_count": 1,
   "metadata": {},
   "outputs": [],
   "source": [
    "import pandas as pd\n",
    "from pyvis.network import Network"
   ]
  },
  {
   "cell_type": "code",
   "execution_count": 2,
   "metadata": {},
   "outputs": [],
   "source": [
    "# carregamento dos dados\n",
    "df = pd.read_csv('network_socio_empresas.csv', sep=',')"
   ]
  },
  {
   "cell_type": "code",
   "execution_count": 3,
   "metadata": {},
   "outputs": [
    {
     "data": {
      "text/html": [
       "<div>\n",
       "<style scoped>\n",
       "    .dataframe tbody tr th:only-of-type {\n",
       "        vertical-align: middle;\n",
       "    }\n",
       "\n",
       "    .dataframe tbody tr th {\n",
       "        vertical-align: top;\n",
       "    }\n",
       "\n",
       "    .dataframe thead th {\n",
       "        text-align: right;\n",
       "    }\n",
       "</style>\n",
       "<table border=\"1\" class=\"dataframe\">\n",
       "  <thead>\n",
       "    <tr style=\"text-align: right;\">\n",
       "      <th></th>\n",
       "      <th>nome_socio</th>\n",
       "      <th>razao_social</th>\n",
       "    </tr>\n",
       "  </thead>\n",
       "  <tbody>\n",
       "    <tr>\n",
       "      <th>4716</th>\n",
       "      <td>SURYA GUEDES MENDONCA</td>\n",
       "      <td>BEZERROS PE 1001 GFERACAO DE ENERGIA 774 LTDA</td>\n",
       "    </tr>\n",
       "    <tr>\n",
       "      <th>1729</th>\n",
       "      <td>KATIA MARIA BEZERRA SILVA</td>\n",
       "      <td>MEDSENIOR SERVICOS EM SAUDE LTDA MAT 766 SCP</td>\n",
       "    </tr>\n",
       "    <tr>\n",
       "      <th>4639</th>\n",
       "      <td>KATIA MARIA BEZERRA SILVA</td>\n",
       "      <td>MEDICALMAIS SERVICOS EM SAUDE LTDA SCP MAT 949</td>\n",
       "    </tr>\n",
       "    <tr>\n",
       "      <th>4162</th>\n",
       "      <td>KATIA MARIA BEZERRA SILVA</td>\n",
       "      <td>MEDICALMAIS SERVICOS EM SAUDE LTDA SCP MAT 691.</td>\n",
       "    </tr>\n",
       "    <tr>\n",
       "      <th>132</th>\n",
       "      <td>RICARDO ELIAS RESTUM ANTONIO FILHO</td>\n",
       "      <td>RM SCAN SERVICOS MEDICOS LTDA - SCP 0154</td>\n",
       "    </tr>\n",
       "  </tbody>\n",
       "</table>\n",
       "</div>"
      ],
      "text/plain": [
       "                              nome_socio  \\\n",
       "4716               SURYA GUEDES MENDONCA   \n",
       "1729           KATIA MARIA BEZERRA SILVA   \n",
       "4639           KATIA MARIA BEZERRA SILVA   \n",
       "4162           KATIA MARIA BEZERRA SILVA   \n",
       "132   RICARDO ELIAS RESTUM ANTONIO FILHO   \n",
       "\n",
       "                                         razao_social  \n",
       "4716    BEZERROS PE 1001 GFERACAO DE ENERGIA 774 LTDA  \n",
       "1729     MEDSENIOR SERVICOS EM SAUDE LTDA MAT 766 SCP  \n",
       "4639   MEDICALMAIS SERVICOS EM SAUDE LTDA SCP MAT 949  \n",
       "4162  MEDICALMAIS SERVICOS EM SAUDE LTDA SCP MAT 691.  \n",
       "132          RM SCAN SERVICOS MEDICOS LTDA - SCP 0154  "
      ]
     },
     "execution_count": 3,
     "metadata": {},
     "output_type": "execute_result"
    }
   ],
   "source": [
    "df_1 = df[['nome_socio', 'razao_social']]\n",
    "sample = df_1.sample(500, random_state=42)\n",
    "sample.head(5)"
   ]
  },
  {
   "cell_type": "code",
   "execution_count": 4,
   "metadata": {},
   "outputs": [],
   "source": [
    "# criando a instância\n",
    "g = Network(\n",
    "    notebook=True,\n",
    "    cdn_resources='remote',\n",
    "    height='750px', \n",
    "    width='100%', \n",
    "    bgcolor='#222222', \n",
    "    font_color='white',\n",
    "    select_menu = True,\n",
    "    filter_menu = True,\n",
    ")"
   ]
  },
  {
   "cell_type": "code",
   "execution_count": 5,
   "metadata": {},
   "outputs": [
    {
     "name": "stdout",
     "output_type": "stream",
     "text": [
      "empresas.html\n"
     ]
    }
   ],
   "source": [
    "nodes = list(set([*sample.nome_socio, *sample.razao_social]))\n",
    "edges = sample.values.tolist()\n",
    "g.add_nodes(nodes)\n",
    "g.add_edges(edges)\n",
    "#g.from_nx(sample)   \n",
    "g.show('empresas.html', notebook=False)"
   ]
  }
 ],
 "metadata": {
  "kernelspec": {
   "display_name": ".venv",
   "language": "python",
   "name": "python3"
  },
  "language_info": {
   "codemirror_mode": {
    "name": "ipython",
    "version": 3
   },
   "file_extension": ".py",
   "mimetype": "text/x-python",
   "name": "python",
   "nbconvert_exporter": "python",
   "pygments_lexer": "ipython3",
   "version": "3.10.5"
  },
  "orig_nbformat": 4
 },
 "nbformat": 4,
 "nbformat_minor": 2
}
